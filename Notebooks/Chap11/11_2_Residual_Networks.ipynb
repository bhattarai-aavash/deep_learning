{
  "nbformat": 4,
  "nbformat_minor": 0,
  "metadata": {
    "colab": {
      "provenance": [],
      "include_colab_link": true
    },
    "kernelspec": {
      "name": "python3",
      "display_name": "Python 3"
    },
    "language_info": {
      "name": "python"
    }
  },
  "cells": [
    {
      "cell_type": "markdown",
      "metadata": {
        "id": "view-in-github",
        "colab_type": "text"
      },
      "source": [
        "<a href=\"https://colab.research.google.com/github/bhattarai-aavash/deep_learning/blob/main/Notebooks/Chap11/11_2_Residual_Networks.ipynb\" target=\"_parent\"><img src=\"https://colab.research.google.com/assets/colab-badge.svg\" alt=\"Open In Colab\"/></a>"
      ]
    },
    {
      "cell_type": "markdown",
      "source": [
        "# **Notebook 11.2: Residual Networks**\n",
        "\n",
        "This notebook adapts the networks for MNIST1D to use residual connections.\n",
        "\n",
        "Work through the cells below, running each cell in turn. In various places you will see the words \"TODO\". Follow the instructions at these places and make predictions about what is going to happen or write code to complete the functions.\n",
        "\n",
        "Contact me at udlbookmail@gmail.com if you find any mistakes or have any suggestions.\n",
        "\n"
      ],
      "metadata": {
        "id": "t9vk9Elugvmi"
      }
    },
    {
      "cell_type": "code",
      "source": [
        "# Run this if you're in a Colab to install MNIST 1D repository\n",
        "!pip install git+https://github.com/greydanus/mnist1d"
      ],
      "metadata": {
        "id": "D5yLObtZCi9J",
        "outputId": "aacee395-0fbb-49df-f9b5-a5763236ed1c",
        "colab": {
          "base_uri": "https://localhost:8080/"
        }
      },
      "execution_count": 1,
      "outputs": [
        {
          "output_type": "stream",
          "name": "stdout",
          "text": [
            "Collecting git+https://github.com/greydanus/mnist1d\n",
            "  Cloning https://github.com/greydanus/mnist1d to /tmp/pip-req-build-l0t27yld\n",
            "  Running command git clone --filter=blob:none --quiet https://github.com/greydanus/mnist1d /tmp/pip-req-build-l0t27yld\n",
            "  Resolved https://github.com/greydanus/mnist1d to commit 7878d96082abd200c546a07a4101fa90b30fdf7e\n",
            "  Installing build dependencies ... \u001b[?25l\u001b[?25hdone\n",
            "  Getting requirements to build wheel ... \u001b[?25l\u001b[?25hdone\n",
            "  Preparing metadata (pyproject.toml) ... \u001b[?25l\u001b[?25hdone\n",
            "Requirement already satisfied: requests in /usr/local/lib/python3.11/dist-packages (from mnist1d==0.0.2.post16) (2.32.3)\n",
            "Requirement already satisfied: numpy in /usr/local/lib/python3.11/dist-packages (from mnist1d==0.0.2.post16) (2.0.2)\n",
            "Requirement already satisfied: matplotlib in /usr/local/lib/python3.11/dist-packages (from mnist1d==0.0.2.post16) (3.10.0)\n",
            "Requirement already satisfied: scipy in /usr/local/lib/python3.11/dist-packages (from mnist1d==0.0.2.post16) (1.14.1)\n",
            "Requirement already satisfied: contourpy>=1.0.1 in /usr/local/lib/python3.11/dist-packages (from matplotlib->mnist1d==0.0.2.post16) (1.3.1)\n",
            "Requirement already satisfied: cycler>=0.10 in /usr/local/lib/python3.11/dist-packages (from matplotlib->mnist1d==0.0.2.post16) (0.12.1)\n",
            "Requirement already satisfied: fonttools>=4.22.0 in /usr/local/lib/python3.11/dist-packages (from matplotlib->mnist1d==0.0.2.post16) (4.56.0)\n",
            "Requirement already satisfied: kiwisolver>=1.3.1 in /usr/local/lib/python3.11/dist-packages (from matplotlib->mnist1d==0.0.2.post16) (1.4.8)\n",
            "Requirement already satisfied: packaging>=20.0 in /usr/local/lib/python3.11/dist-packages (from matplotlib->mnist1d==0.0.2.post16) (24.2)\n",
            "Requirement already satisfied: pillow>=8 in /usr/local/lib/python3.11/dist-packages (from matplotlib->mnist1d==0.0.2.post16) (11.1.0)\n",
            "Requirement already satisfied: pyparsing>=2.3.1 in /usr/local/lib/python3.11/dist-packages (from matplotlib->mnist1d==0.0.2.post16) (3.2.1)\n",
            "Requirement already satisfied: python-dateutil>=2.7 in /usr/local/lib/python3.11/dist-packages (from matplotlib->mnist1d==0.0.2.post16) (2.8.2)\n",
            "Requirement already satisfied: charset-normalizer<4,>=2 in /usr/local/lib/python3.11/dist-packages (from requests->mnist1d==0.0.2.post16) (3.4.1)\n",
            "Requirement already satisfied: idna<4,>=2.5 in /usr/local/lib/python3.11/dist-packages (from requests->mnist1d==0.0.2.post16) (3.10)\n",
            "Requirement already satisfied: urllib3<3,>=1.21.1 in /usr/local/lib/python3.11/dist-packages (from requests->mnist1d==0.0.2.post16) (2.3.0)\n",
            "Requirement already satisfied: certifi>=2017.4.17 in /usr/local/lib/python3.11/dist-packages (from requests->mnist1d==0.0.2.post16) (2025.1.31)\n",
            "Requirement already satisfied: six>=1.5 in /usr/local/lib/python3.11/dist-packages (from python-dateutil>=2.7->matplotlib->mnist1d==0.0.2.post16) (1.17.0)\n",
            "Building wheels for collected packages: mnist1d\n",
            "  Building wheel for mnist1d (pyproject.toml) ... \u001b[?25l\u001b[?25hdone\n",
            "  Created wheel for mnist1d: filename=mnist1d-0.0.2.post16-py3-none-any.whl size=14665 sha256=6222c6fd11a23a8ef0f6b87efc67b1557cadddf80ee2f0b1e315536c02c52722\n",
            "  Stored in directory: /tmp/pip-ephem-wheel-cache-uglpjtx_/wheels/d6/38/42/3d2112bc7d915f6195254ac85eb761d922d1b18f52817aa8e2\n",
            "Successfully built mnist1d\n",
            "Installing collected packages: mnist1d\n",
            "Successfully installed mnist1d-0.0.2.post16\n"
          ]
        }
      ]
    },
    {
      "cell_type": "code",
      "source": [
        "import numpy as np\n",
        "import os\n",
        "import torch, torch.nn as nn\n",
        "from torch.utils.data import TensorDataset, DataLoader\n",
        "from torch.optim.lr_scheduler import StepLR\n",
        "import matplotlib.pyplot as plt\n",
        "import mnist1d\n",
        "import random"
      ],
      "metadata": {
        "id": "YrXWAH7sUWvU"
      },
      "execution_count": 2,
      "outputs": []
    },
    {
      "cell_type": "code",
      "source": [
        "args = mnist1d.data.get_dataset_args()\n",
        "data = mnist1d.data.get_dataset(args, path='./mnist1d_data.pkl', download=False, regenerate=False)\n",
        "\n",
        "# The training and test input and outputs are in\n",
        "# data['x'], data['y'], data['x_test'], and data['y_test']\n",
        "print(\"Examples in training set: {}\".format(len(data['y'])))\n",
        "print(\"Examples in test set: {}\".format(len(data['y_test'])))\n",
        "print(\"Length of each example: {}\".format(data['x'].shape[-1]))"
      ],
      "metadata": {
        "id": "twI72ZCrCt5z",
        "outputId": "a6c1fd61-f1c3-4391-ff29-21ef039b1e35",
        "colab": {
          "base_uri": "https://localhost:8080/"
        }
      },
      "execution_count": 3,
      "outputs": [
        {
          "output_type": "stream",
          "name": "stdout",
          "text": [
            "Did or could not load data from ./mnist1d_data.pkl. Rebuilding dataset...\n",
            "Examples in training set: 4000\n",
            "Examples in test set: 1000\n",
            "Length of each example: 40\n"
          ]
        }
      ]
    },
    {
      "cell_type": "code",
      "source": [
        "# Load in the data\n",
        "train_data_x = data['x'].transpose()\n",
        "train_data_y = data['y']\n",
        "val_data_x = data['x_test'].transpose()\n",
        "val_data_y = data['y_test']\n",
        "# Print out sizes\n",
        "print(\"Train data: %d examples (columns), each of which has %d dimensions (rows)\"%((train_data_x.shape[1],train_data_x.shape[0])))\n",
        "print(\"Validation data: %d examples (columns), each of which has %d dimensions (rows)\"%((val_data_x.shape[1],val_data_x.shape[0])))"
      ],
      "metadata": {
        "id": "8bKADvLHbiV5",
        "outputId": "e9f5323f-3467-47eb-bf51-3ff5c5a89774",
        "colab": {
          "base_uri": "https://localhost:8080/"
        }
      },
      "execution_count": 4,
      "outputs": [
        {
          "output_type": "stream",
          "name": "stdout",
          "text": [
            "Train data: 4000 examples (columns), each of which has 40 dimensions (rows)\n",
            "Validation data: 1000 examples (columns), each of which has 40 dimensions (rows)\n"
          ]
        }
      ]
    },
    {
      "cell_type": "markdown",
      "source": [
        "Define the network"
      ],
      "metadata": {
        "id": "_sFvRDGrl4qe"
      }
    },
    {
      "cell_type": "code",
      "source": [
        "# There are 40 input dimensions and 10 output dimensions for this data\n",
        "# The inputs correspond to the 40 offsets in the MNIST1D template.\n",
        "D_i = 40\n",
        "# The outputs correspond to the 10 digits\n",
        "D_o = 10\n",
        "\n",
        "\n",
        "# We will adapt this model to have residual connections around the linear layers\n",
        "# This is the same model we used in practical 8.1, but we can't use the sequential\n",
        "# class for residual networks (which aren't strictly sequential).  Hence, I've rewritten\n",
        "# it as a model that inherits from a base class\n",
        "\n",
        "class ResidualNetwork(torch.nn.Module):\n",
        "  def __init__(self, input_size, output_size, hidden_size=100):\n",
        "    super(ResidualNetwork, self).__init__()\n",
        "    self.linear1 = nn.Linear(input_size, hidden_size)\n",
        "    self.linear2 = nn.Linear(hidden_size, hidden_size)\n",
        "    self.linear3 = nn.Linear(hidden_size, hidden_size)\n",
        "    self.linear4 = nn.Linear(hidden_size, output_size)\n",
        "    print(\"Initialized MLPBase model with {} parameters\".format(self.count_params()))\n",
        "\n",
        "  def count_params(self):\n",
        "    return sum([p.view(-1).shape[0] for p in self.parameters()])\n",
        "\n",
        "# TODO -- Add residual connections to this model\n",
        "# The order of operations within each block should similar to figure 11.5b\n",
        "# ie., linear1 first, ReLU+linear2 in first residual block, ReLU+linear3 in second residual block), linear4 at end\n",
        "# Replace this function\n",
        "  def forward(self, x):\n",
        "\n",
        "    h0 = self.linear1(x)\n",
        "\n",
        "    h1_residual = self.linear2(h0.relu())\n",
        "    h1 = h0 + h1_residual\n",
        "\n",
        "\n",
        "    h2_residual = self.linear3(h1.relu())\n",
        "    h2 = h1 + h2_residual\n",
        "\n",
        "\n",
        "    return self.linear4(h2.relu())"
      ],
      "metadata": {
        "id": "FslroPJJffrh"
      },
      "execution_count": 5,
      "outputs": []
    },
    {
      "cell_type": "code",
      "source": [
        "# He initialization of weights\n",
        "def weights_init(layer_in):\n",
        "  if isinstance(layer_in, nn.Linear):\n",
        "    nn.init.kaiming_uniform_(layer_in.weight)\n",
        "    layer_in.bias.data.fill_(0.0)"
      ],
      "metadata": {
        "id": "YgLaex1pfhqz"
      },
      "execution_count": 6,
      "outputs": []
    },
    {
      "cell_type": "code",
      "source": [
        "#Define the model\n",
        "model = ResidualNetwork(40, 10)\n",
        "\n",
        "# choose cross entropy loss function (equation 5.24 in the loss notes)\n",
        "loss_function = nn.CrossEntropyLoss()\n",
        "# construct SGD optimizer and initialize learning rate and momentum\n",
        "optimizer = torch.optim.SGD(model.parameters(), lr = 0.05, momentum=0.9)\n",
        "# object that decreases learning rate by half every 20 epochs\n",
        "scheduler = StepLR(optimizer, step_size=20, gamma=0.5)\n",
        "# convert data to torch tensors\n",
        "x_train = torch.tensor(train_data_x.transpose().astype('float32'))\n",
        "y_train = torch.tensor(train_data_y.astype('long'))\n",
        "x_val= torch.tensor(val_data_x.transpose().astype('float32'))\n",
        "y_val = torch.tensor(val_data_y.astype('long'))\n",
        "\n",
        "# load the data into a class that creates the batches\n",
        "data_loader = DataLoader(TensorDataset(x_train,y_train), batch_size=100, shuffle=True, worker_init_fn=np.random.seed(1))\n",
        "\n",
        "# Initialize model weights\n",
        "model.apply(weights_init)\n",
        "\n",
        "# loop over the dataset n_epoch times\n",
        "n_epoch = 100\n",
        "# store the loss and the % correct at each epoch\n",
        "losses_train = np.zeros((n_epoch))\n",
        "errors_train = np.zeros((n_epoch))\n",
        "losses_val = np.zeros((n_epoch))\n",
        "errors_val = np.zeros((n_epoch))\n",
        "\n",
        "for epoch in range(n_epoch):\n",
        "  # loop over batches\n",
        "  for i, data in enumerate(data_loader):\n",
        "    # retrieve inputs and labels for this batch\n",
        "    x_batch, y_batch = data\n",
        "    # zero the parameter gradients\n",
        "    optimizer.zero_grad()\n",
        "    # forward pass -- calculate model output\n",
        "    pred = model(x_batch)\n",
        "    # compute the loss\n",
        "    loss = loss_function(pred, y_batch)\n",
        "    # backward pass\n",
        "    loss.backward()\n",
        "    # SGD update\n",
        "    optimizer.step()\n",
        "\n",
        "  # Run whole dataset to get statistics -- normally wouldn't do this\n",
        "  pred_train = model(x_train)\n",
        "  pred_val = model(x_val)\n",
        "  _, predicted_train_class = torch.max(pred_train.data, 1)\n",
        "  _, predicted_val_class = torch.max(pred_val.data, 1)\n",
        "  errors_train[epoch] = 100 - 100 * (predicted_train_class == y_train).float().sum() / len(y_train)\n",
        "  errors_val[epoch]= 100 - 100 * (predicted_val_class == y_val).float().sum() / len(y_val)\n",
        "  losses_train[epoch] = loss_function(pred_train, y_train).item()\n",
        "  losses_val[epoch]= loss_function(pred_val, y_val).item()\n",
        "  print(f'Epoch {epoch:5d}, train loss {losses_train[epoch]:.6f}, train error {errors_train[epoch]:3.2f},  val loss {losses_val[epoch]:.6f}, percent error {errors_val[epoch]:3.2f}')\n",
        "\n",
        "  # tell scheduler to consider updating learning rate\n",
        "  scheduler.step()"
      ],
      "metadata": {
        "id": "NYw8I_3mmX5c",
        "outputId": "94d0687e-7bc2-4a09-936f-1d5f4d678b7b",
        "colab": {
          "base_uri": "https://localhost:8080/"
        }
      },
      "execution_count": 7,
      "outputs": [
        {
          "output_type": "stream",
          "name": "stdout",
          "text": [
            "Initialized MLPBase model with 25310 parameters\n",
            "Epoch     0, train loss 1.574293, train error 60.85,  val loss 1.637818, percent error 66.60\n",
            "Epoch     1, train loss 1.294446, train error 49.45,  val loss 1.461752, percent error 58.80\n",
            "Epoch     2, train loss 1.097622, train error 41.08,  val loss 1.348037, percent error 52.30\n",
            "Epoch     3, train loss 0.914081, train error 32.85,  val loss 1.250633, percent error 48.10\n",
            "Epoch     4, train loss 0.796195, train error 28.10,  val loss 1.246428, percent error 48.10\n",
            "Epoch     5, train loss 0.689653, train error 24.45,  val loss 1.232229, percent error 44.70\n",
            "Epoch     6, train loss 0.608094, train error 22.40,  val loss 1.188717, percent error 42.30\n",
            "Epoch     7, train loss 0.487224, train error 17.30,  val loss 1.170841, percent error 43.20\n",
            "Epoch     8, train loss 0.434193, train error 15.35,  val loss 1.177886, percent error 38.80\n",
            "Epoch     9, train loss 0.365200, train error 12.35,  val loss 1.146797, percent error 38.40\n",
            "Epoch    10, train loss 0.367921, train error 13.22,  val loss 1.260071, percent error 40.20\n",
            "Epoch    11, train loss 0.251246, train error 7.97,  val loss 1.261392, percent error 37.50\n",
            "Epoch    12, train loss 0.244849, train error 8.28,  val loss 1.332556, percent error 37.70\n",
            "Epoch    13, train loss 0.250610, train error 8.80,  val loss 1.421391, percent error 39.40\n",
            "Epoch    14, train loss 0.157347, train error 4.55,  val loss 1.375029, percent error 35.90\n",
            "Epoch    15, train loss 0.118446, train error 3.20,  val loss 1.365453, percent error 35.60\n",
            "Epoch    16, train loss 0.151089, train error 5.00,  val loss 1.512729, percent error 38.10\n",
            "Epoch    17, train loss 0.134802, train error 4.18,  val loss 1.519235, percent error 36.60\n",
            "Epoch    18, train loss 0.099298, train error 2.88,  val loss 1.608388, percent error 36.80\n",
            "Epoch    19, train loss 0.067474, train error 1.80,  val loss 1.630410, percent error 34.80\n",
            "Epoch    20, train loss 0.022146, train error 0.10,  val loss 1.513834, percent error 35.20\n",
            "Epoch    21, train loss 0.013056, train error 0.00,  val loss 1.527669, percent error 34.90\n",
            "Epoch    22, train loss 0.010385, train error 0.00,  val loss 1.552296, percent error 34.80\n",
            "Epoch    23, train loss 0.009161, train error 0.00,  val loss 1.577193, percent error 34.90\n",
            "Epoch    24, train loss 0.008077, train error 0.00,  val loss 1.584108, percent error 35.40\n",
            "Epoch    25, train loss 0.007307, train error 0.00,  val loss 1.594764, percent error 35.10\n",
            "Epoch    26, train loss 0.006797, train error 0.00,  val loss 1.613217, percent error 35.30\n",
            "Epoch    27, train loss 0.006275, train error 0.00,  val loss 1.620550, percent error 35.50\n",
            "Epoch    28, train loss 0.005795, train error 0.00,  val loss 1.632328, percent error 35.30\n",
            "Epoch    29, train loss 0.005436, train error 0.00,  val loss 1.642161, percent error 35.20\n",
            "Epoch    30, train loss 0.005116, train error 0.00,  val loss 1.652060, percent error 35.20\n",
            "Epoch    31, train loss 0.004847, train error 0.00,  val loss 1.668949, percent error 35.00\n",
            "Epoch    32, train loss 0.004599, train error 0.00,  val loss 1.672609, percent error 35.00\n",
            "Epoch    33, train loss 0.004364, train error 0.00,  val loss 1.683432, percent error 35.20\n",
            "Epoch    34, train loss 0.004161, train error 0.00,  val loss 1.692128, percent error 35.20\n",
            "Epoch    35, train loss 0.003979, train error 0.00,  val loss 1.699139, percent error 35.10\n",
            "Epoch    36, train loss 0.003802, train error 0.00,  val loss 1.707380, percent error 34.90\n",
            "Epoch    37, train loss 0.003659, train error 0.00,  val loss 1.717942, percent error 35.10\n",
            "Epoch    38, train loss 0.003510, train error 0.00,  val loss 1.721772, percent error 35.00\n",
            "Epoch    39, train loss 0.003386, train error 0.00,  val loss 1.728827, percent error 35.10\n",
            "Epoch    40, train loss 0.003311, train error 0.00,  val loss 1.733493, percent error 34.90\n",
            "Epoch    41, train loss 0.003251, train error 0.00,  val loss 1.736527, percent error 34.90\n",
            "Epoch    42, train loss 0.003195, train error 0.00,  val loss 1.740213, percent error 35.10\n",
            "Epoch    43, train loss 0.003140, train error 0.00,  val loss 1.745283, percent error 35.00\n",
            "Epoch    44, train loss 0.003088, train error 0.00,  val loss 1.745811, percent error 35.10\n",
            "Epoch    45, train loss 0.003036, train error 0.00,  val loss 1.750139, percent error 35.00\n",
            "Epoch    46, train loss 0.002985, train error 0.00,  val loss 1.753291, percent error 35.10\n",
            "Epoch    47, train loss 0.002937, train error 0.00,  val loss 1.755913, percent error 35.00\n",
            "Epoch    48, train loss 0.002892, train error 0.00,  val loss 1.759312, percent error 35.00\n",
            "Epoch    49, train loss 0.002847, train error 0.00,  val loss 1.762427, percent error 35.00\n",
            "Epoch    50, train loss 0.002803, train error 0.00,  val loss 1.765218, percent error 35.10\n",
            "Epoch    51, train loss 0.002761, train error 0.00,  val loss 1.768702, percent error 35.10\n",
            "Epoch    52, train loss 0.002720, train error 0.00,  val loss 1.770478, percent error 35.10\n",
            "Epoch    53, train loss 0.002682, train error 0.00,  val loss 1.775469, percent error 35.20\n",
            "Epoch    54, train loss 0.002641, train error 0.00,  val loss 1.776863, percent error 35.10\n",
            "Epoch    55, train loss 0.002603, train error 0.00,  val loss 1.779358, percent error 35.10\n",
            "Epoch    56, train loss 0.002567, train error 0.00,  val loss 1.782177, percent error 35.10\n",
            "Epoch    57, train loss 0.002532, train error 0.00,  val loss 1.784947, percent error 35.10\n",
            "Epoch    58, train loss 0.002497, train error 0.00,  val loss 1.788229, percent error 35.30\n",
            "Epoch    59, train loss 0.002463, train error 0.00,  val loss 1.791031, percent error 35.10\n",
            "Epoch    60, train loss 0.002446, train error 0.00,  val loss 1.791872, percent error 35.00\n",
            "Epoch    61, train loss 0.002429, train error 0.00,  val loss 1.793426, percent error 35.10\n",
            "Epoch    62, train loss 0.002413, train error 0.00,  val loss 1.795139, percent error 35.20\n",
            "Epoch    63, train loss 0.002397, train error 0.00,  val loss 1.796331, percent error 35.20\n",
            "Epoch    64, train loss 0.002382, train error 0.00,  val loss 1.796928, percent error 35.20\n",
            "Epoch    65, train loss 0.002366, train error 0.00,  val loss 1.799259, percent error 35.30\n",
            "Epoch    66, train loss 0.002351, train error 0.00,  val loss 1.800388, percent error 35.20\n",
            "Epoch    67, train loss 0.002336, train error 0.00,  val loss 1.801308, percent error 35.20\n",
            "Epoch    68, train loss 0.002321, train error 0.00,  val loss 1.802718, percent error 35.20\n",
            "Epoch    69, train loss 0.002306, train error 0.00,  val loss 1.803807, percent error 35.20\n",
            "Epoch    70, train loss 0.002292, train error 0.00,  val loss 1.804973, percent error 35.20\n",
            "Epoch    71, train loss 0.002278, train error 0.00,  val loss 1.806655, percent error 35.20\n",
            "Epoch    72, train loss 0.002263, train error 0.00,  val loss 1.807767, percent error 35.20\n",
            "Epoch    73, train loss 0.002249, train error 0.00,  val loss 1.808672, percent error 35.30\n",
            "Epoch    74, train loss 0.002236, train error 0.00,  val loss 1.810419, percent error 35.30\n",
            "Epoch    75, train loss 0.002222, train error 0.00,  val loss 1.811118, percent error 35.40\n",
            "Epoch    76, train loss 0.002209, train error 0.00,  val loss 1.812308, percent error 35.40\n",
            "Epoch    77, train loss 0.002195, train error 0.00,  val loss 1.813943, percent error 35.50\n",
            "Epoch    78, train loss 0.002182, train error 0.00,  val loss 1.815570, percent error 35.50\n",
            "Epoch    79, train loss 0.002169, train error 0.00,  val loss 1.816353, percent error 35.50\n",
            "Epoch    80, train loss 0.002162, train error 0.00,  val loss 1.816913, percent error 35.50\n",
            "Epoch    81, train loss 0.002156, train error 0.00,  val loss 1.817634, percent error 35.50\n",
            "Epoch    82, train loss 0.002150, train error 0.00,  val loss 1.818189, percent error 35.50\n",
            "Epoch    83, train loss 0.002143, train error 0.00,  val loss 1.818801, percent error 35.50\n",
            "Epoch    84, train loss 0.002137, train error 0.00,  val loss 1.819310, percent error 35.50\n",
            "Epoch    85, train loss 0.002131, train error 0.00,  val loss 1.820011, percent error 35.50\n",
            "Epoch    86, train loss 0.002125, train error 0.00,  val loss 1.820687, percent error 35.50\n",
            "Epoch    87, train loss 0.002118, train error 0.00,  val loss 1.821133, percent error 35.50\n",
            "Epoch    88, train loss 0.002112, train error 0.00,  val loss 1.821598, percent error 35.50\n",
            "Epoch    89, train loss 0.002106, train error 0.00,  val loss 1.822487, percent error 35.50\n",
            "Epoch    90, train loss 0.002100, train error 0.00,  val loss 1.823104, percent error 35.50\n",
            "Epoch    91, train loss 0.002094, train error 0.00,  val loss 1.823685, percent error 35.50\n",
            "Epoch    92, train loss 0.002088, train error 0.00,  val loss 1.824123, percent error 35.50\n",
            "Epoch    93, train loss 0.002082, train error 0.00,  val loss 1.824838, percent error 35.50\n",
            "Epoch    94, train loss 0.002076, train error 0.00,  val loss 1.825280, percent error 35.50\n",
            "Epoch    95, train loss 0.002070, train error 0.00,  val loss 1.825848, percent error 35.50\n",
            "Epoch    96, train loss 0.002064, train error 0.00,  val loss 1.826480, percent error 35.50\n",
            "Epoch    97, train loss 0.002058, train error 0.00,  val loss 1.826806, percent error 35.50\n",
            "Epoch    98, train loss 0.002052, train error 0.00,  val loss 1.827560, percent error 35.50\n",
            "Epoch    99, train loss 0.002047, train error 0.00,  val loss 1.828119, percent error 35.50\n"
          ]
        }
      ]
    },
    {
      "cell_type": "code",
      "source": [
        "# Plot the results\n",
        "fig, ax = plt.subplots()\n",
        "ax.plot(errors_train,'r-',label='train')\n",
        "ax.plot(errors_val,'b-',label='test')\n",
        "ax.set_ylim(0,100); ax.set_xlim(0,n_epoch)\n",
        "ax.set_xlabel('Epoch'); ax.set_ylabel('Error')\n",
        "ax.set_title('TrainError %3.2f, Val Error %3.2f'%(errors_train[-1],errors_val[-1]))\n",
        "ax.legend()\n",
        "plt.show()"
      ],
      "metadata": {
        "id": "CcP_VyEmE2sv",
        "outputId": "b4e486d3-6bc3-407e-c0e7-a7ad8b13bc56",
        "colab": {
          "base_uri": "https://localhost:8080/",
          "height": 472
        }
      },
      "execution_count": 8,
      "outputs": [
        {
          "output_type": "display_data",
          "data": {
            "text/plain": [
              "<Figure size 640x480 with 1 Axes>"
            ],
            "image/png": "[encoded data removed]"
          },
          "metadata": {}
        }
      ]
    },
    {
      "cell_type": "markdown",
      "source": [
        "The primary motivation of residual networks is to allow training of much deeper networks.   \n",
        "\n",
        "TODO: Try running this network with and without the residual connections.  Does adding the residual connections change the performance?"
      ],
      "metadata": {
        "id": "wMmqhmxuAx0M"
      }
    }
  ]
}