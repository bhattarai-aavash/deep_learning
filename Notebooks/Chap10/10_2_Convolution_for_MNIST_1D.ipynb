{
  "nbformat": 4,
  "nbformat_minor": 0,
  "metadata": {
    "colab": {
      "provenance": [],
      "include_colab_link": true
    },
    "kernelspec": {
      "name": "python3",
      "display_name": "Python 3"
    },
    "language_info": {
      "name": "python"
    }
  },
  "cells": [
    {
      "cell_type": "markdown",
      "metadata": {
        "id": "view-in-github",
        "colab_type": "text"
      },
      "source": [
        "<a href=\"https://colab.research.google.com/github/bhattarai-aavash/deep_learning/blob/main/Notebooks/Chap10/10_2_Convolution_for_MNIST_1D.ipynb\" target=\"_parent\"><img src=\"https://colab.research.google.com/assets/colab-badge.svg\" alt=\"Open In Colab\"/></a>"
      ]
    },
    {
      "cell_type": "markdown",
      "source": [
        "# **Notebook 10.2: Convolution for MNIST-1D**\n",
        "\n",
        "This notebook investigates a 1D convolutional network for MNIST-1D as in figure 10.7 and 10.8a.\n",
        "\n",
        "Work through the cells below, running each cell in turn. In various places you will see the words \"TODO\". Follow the instructions at these places and make predictions about what is going to happen or write code to complete the functions.\n",
        "\n",
        "Contact me at udlbookmail@gmail.com if you find any mistakes or have any suggestions.\n",
        "\n"
      ],
      "metadata": {
        "id": "t9vk9Elugvmi"
      }
    },
    {
      "cell_type": "code",
      "source": [
        "# Run this if you're in a Colab to install MNIST 1D repository\n",
        "!pip install git+https://github.com/greydanus/mnist1d"
      ],
      "metadata": {
        "id": "D5yLObtZCi9J",
        "outputId": "7cb799cc-9f7e-41c4-99a4-47be6fe40a44",
        "colab": {
          "base_uri": "https://localhost:8080/"
        }
      },
      "execution_count": 1,
      "outputs": [
        {
          "output_type": "stream",
          "name": "stdout",
          "text": [
            "Collecting git+https://github.com/greydanus/mnist1d\n",
            "  Cloning https://github.com/greydanus/mnist1d to /tmp/pip-req-build-z2jsikl3\n",
            "  Running command git clone --filter=blob:none --quiet https://github.com/greydanus/mnist1d /tmp/pip-req-build-z2jsikl3\n",
            "  Resolved https://github.com/greydanus/mnist1d to commit 7878d96082abd200c546a07a4101fa90b30fdf7e\n",
            "  Installing build dependencies ... \u001b[?25l\u001b[?25hdone\n",
            "  Getting requirements to build wheel ... \u001b[?25l\u001b[?25hdone\n",
            "  Preparing metadata (pyproject.toml) ... \u001b[?25l\u001b[?25hdone\n",
            "Requirement already satisfied: requests in /usr/local/lib/python3.11/dist-packages (from mnist1d==0.0.2.post16) (2.32.3)\n",
            "Requirement already satisfied: numpy in /usr/local/lib/python3.11/dist-packages (from mnist1d==0.0.2.post16) (1.26.4)\n",
            "Requirement already satisfied: matplotlib in /usr/local/lib/python3.11/dist-packages (from mnist1d==0.0.2.post16) (3.10.0)\n",
            "Requirement already satisfied: scipy in /usr/local/lib/python3.11/dist-packages (from mnist1d==0.0.2.post16) (1.13.1)\n",
            "Requirement already satisfied: contourpy>=1.0.1 in /usr/local/lib/python3.11/dist-packages (from matplotlib->mnist1d==0.0.2.post16) (1.3.1)\n",
            "Requirement already satisfied: cycler>=0.10 in /usr/local/lib/python3.11/dist-packages (from matplotlib->mnist1d==0.0.2.post16) (0.12.1)\n",
            "Requirement already satisfied: fonttools>=4.22.0 in /usr/local/lib/python3.11/dist-packages (from matplotlib->mnist1d==0.0.2.post16) (4.56.0)\n",
            "Requirement already satisfied: kiwisolver>=1.3.1 in /usr/local/lib/python3.11/dist-packages (from matplotlib->mnist1d==0.0.2.post16) (1.4.8)\n",
            "Requirement already satisfied: packaging>=20.0 in /usr/local/lib/python3.11/dist-packages (from matplotlib->mnist1d==0.0.2.post16) (24.2)\n",
            "Requirement already satisfied: pillow>=8 in /usr/local/lib/python3.11/dist-packages (from matplotlib->mnist1d==0.0.2.post16) (11.1.0)\n",
            "Requirement already satisfied: pyparsing>=2.3.1 in /usr/local/lib/python3.11/dist-packages (from matplotlib->mnist1d==0.0.2.post16) (3.2.1)\n",
            "Requirement already satisfied: python-dateutil>=2.7 in /usr/local/lib/python3.11/dist-packages (from matplotlib->mnist1d==0.0.2.post16) (2.8.2)\n",
            "Requirement already satisfied: charset-normalizer<4,>=2 in /usr/local/lib/python3.11/dist-packages (from requests->mnist1d==0.0.2.post16) (3.4.1)\n",
            "Requirement already satisfied: idna<4,>=2.5 in /usr/local/lib/python3.11/dist-packages (from requests->mnist1d==0.0.2.post16) (3.10)\n",
            "Requirement already satisfied: urllib3<3,>=1.21.1 in /usr/local/lib/python3.11/dist-packages (from requests->mnist1d==0.0.2.post16) (2.3.0)\n",
            "Requirement already satisfied: certifi>=2017.4.17 in /usr/local/lib/python3.11/dist-packages (from requests->mnist1d==0.0.2.post16) (2025.1.31)\n",
            "Requirement already satisfied: six>=1.5 in /usr/local/lib/python3.11/dist-packages (from python-dateutil>=2.7->matplotlib->mnist1d==0.0.2.post16) (1.17.0)\n",
            "Building wheels for collected packages: mnist1d\n",
            "  Building wheel for mnist1d (pyproject.toml) ... \u001b[?25l\u001b[?25hdone\n",
            "  Created wheel for mnist1d: filename=mnist1d-0.0.2.post16-py3-none-any.whl size=14626 sha256=174427d5c37bc12a3b5248ac5b80b8346b088f65d6b104d09b8b381890774406\n",
            "  Stored in directory: /tmp/pip-ephem-wheel-cache-5aphyr6j/wheels/d6/38/42/3d2112bc7d915f6195254ac85eb761d922d1b18f52817aa8e2\n",
            "Successfully built mnist1d\n",
            "Installing collected packages: mnist1d\n",
            "Successfully installed mnist1d-0.0.2.post16\n"
          ]
        }
      ]
    },
    {
      "cell_type": "code",
      "source": [
        "import numpy as np\n",
        "import os\n",
        "import torch, torch.nn as nn\n",
        "from torch.utils.data import TensorDataset, DataLoader\n",
        "from torch.optim.lr_scheduler import StepLR\n",
        "import matplotlib.pyplot as plt\n",
        "import mnist1d\n",
        "import random"
      ],
      "metadata": {
        "id": "YrXWAH7sUWvU"
      },
      "execution_count": 3,
      "outputs": []
    },
    {
      "cell_type": "code",
      "source": [
        "args = mnist1d.data.get_dataset_args()\n",
        "data = mnist1d.data.get_dataset(args, path='./mnist1d_data.pkl', download=False, regenerate=False)\n",
        "\n",
        "# The training and test input and outputs are in\n",
        "# data['x'], data['y'], data['x_test'], and data['y_test']\n",
        "print(\"Examples in training set: {}\".format(len(data['y'])))\n",
        "print(\"Examples in test set: {}\".format(len(data['y_test'])))\n",
        "print(\"Length of each example: {}\".format(data['x'].shape[-1]))"
      ],
      "metadata": {
        "id": "twI72ZCrCt5z",
        "outputId": "90d513e1-4843-4bff-b533-518ba27354a3",
        "colab": {
          "base_uri": "https://localhost:8080/"
        }
      },
      "execution_count": 4,
      "outputs": [
        {
          "output_type": "stream",
          "name": "stdout",
          "text": [
            "Did or could not load data from ./mnist1d_data.pkl. Rebuilding dataset...\n",
            "Examples in training set: 4000\n",
            "Examples in test set: 1000\n",
            "Length of each example: 40\n"
          ]
        }
      ]
    },
    {
      "cell_type": "code",
      "source": [
        "# Load in the data\n",
        "train_data_x = data['x'].transpose()\n",
        "train_data_y = data['y']\n",
        "val_data_x = data['x_test'].transpose()\n",
        "val_data_y = data['y_test']\n",
        "# Print out sizes\n",
        "print(\"Train data: %d examples (columns), each of which has %d dimensions (rows)\"%((train_data_x.shape[1],train_data_x.shape[0])))\n",
        "print(\"Validation data: %d examples (columns), each of which has %d dimensions (rows)\"%((val_data_x.shape[1],val_data_x.shape[0])))"
      ],
      "metadata": {
        "id": "8bKADvLHbiV5",
        "outputId": "e14a6948-eb10-4c4b-a3da-22498e49b5bc",
        "colab": {
          "base_uri": "https://localhost:8080/"
        }
      },
      "execution_count": 5,
      "outputs": [
        {
          "output_type": "stream",
          "name": "stdout",
          "text": [
            "Train data: 4000 examples (columns), each of which has 40 dimensions (rows)\n",
            "Validation data: 1000 examples (columns), each of which has 40 dimensions (rows)\n"
          ]
        }
      ]
    },
    {
      "cell_type": "markdown",
      "source": [
        "Define the network"
      ],
      "metadata": {
        "id": "_sFvRDGrl4qe"
      }
    },
    {
      "cell_type": "code",
      "source": [
        "# There are 40 input dimensions and 10 output dimensions for this data\n",
        "# The inputs correspond to the 40 offsets in the MNIST1D template.\n",
        "D_i = 40\n",
        "# The outputs correspond to the 10 digits\n",
        "D_o = 10\n",
        "\n",
        "\n",
        "# TODO Create a model with the following layers\n",
        "# 1. Convolutional layer, (input=length 40 and 1 channel, kernel size 3, stride 2, padding=\"valid\", 15 output channels )\n",
        "# 2. ReLU\n",
        "# 3. Convolutional layer, (input=length 19 and 15 channels, kernel size 3, stride 2, padding=\"valid\", 15 output channels )\n",
        "# 4. ReLU\n",
        "# 5. Convolutional layer, (input=length 9 and 15 channels, kernel size 3, stride 2, padding=\"valid\", 15 output channels)\n",
        "# 6. ReLU\n",
        "# 7. Flatten (converts 4x15) to length 60\n",
        "# 8. Linear layer (input size = 60, output size = 10)\n",
        "# References:\n",
        "# https://pytorch.org/docs/1.13/generated/torch.nn.Conv1d.html?highlight=conv1d#torch.nn.Conv1d\n",
        "# https://pytorch.org/docs/stable/generated/torch.nn.Flatten.html\n",
        "# https://pytorch.org/docs/1.13/generated/torch.nn.Linear.html?highlight=linear#torch.nn.Linear\n",
        "\n",
        "# NOTE THAT THE CONVOLUTIONAL LAYERS NEED TO TAKE THE NUMBER OF INPUT CHANNELS AS A PARAMETER\n",
        "# AND NOT THE INPUT SIZE.\n",
        "\n",
        "# Replace the following function:\n",
        "model = nn.Sequential(\n",
        "nn.Conv1d(in_channels=1, out_channels=15, kernel_size=3, stride=2, padding=\"valid\"),\n",
        "nn.ReLU(),\n",
        "nn.Conv1d(in_channels=15, out_channels=15, kernel_size=3, stride=2, padding=\"valid\"),\n",
        "nn.ReLU(),\n",
        "nn.Conv1d(in_channels=15, out_channels=15, kernel_size=3, stride=2, padding=\"valid\"),\n",
        "nn.ReLU(),\n",
        "nn.Flatten(),\n",
        "nn.Linear(in_features=60, out_features=10))\n",
        "\n",
        "\n",
        "\n"
      ],
      "metadata": {
        "id": "FslroPJJffrh"
      },
      "execution_count": 16,
      "outputs": []
    },
    {
      "cell_type": "code",
      "source": [
        "# He initialization of weights\n",
        "def weights_init(layer_in):\n",
        "  if isinstance(layer_in, nn.Linear):\n",
        "    nn.init.kaiming_uniform_(layer_in.weight)\n",
        "    layer_in.bias.data.fill_(0.0)"
      ],
      "metadata": {
        "id": "YgLaex1pfhqz"
      },
      "execution_count": 17,
      "outputs": []
    },
    {
      "cell_type": "code",
      "source": [
        "# choose cross entropy loss function (equation 5.24 in the loss notes)\n",
        "loss_function = nn.CrossEntropyLoss()\n",
        "# construct SGD optimizer and initialize learning rate and momentum\n",
        "optimizer = torch.optim.SGD(model.parameters(), lr = 0.05, momentum=0.9)\n",
        "# object that decreases learning rate by half every 20 epochs\n",
        "scheduler = StepLR(optimizer, step_size=20, gamma=0.5)\n",
        "# create 100 dummy data points and store in data loader class\n",
        "x_train = torch.tensor(train_data_x.transpose().astype('float32'))\n",
        "y_train = torch.tensor(train_data_y.astype('long')).long()\n",
        "x_val= torch.tensor(val_data_x.transpose().astype('float32'))\n",
        "y_val = torch.tensor(val_data_y.astype('long')).long()\n",
        "\n",
        "# load the data into a class that creates the batches\n",
        "data_loader = DataLoader(TensorDataset(x_train,y_train), batch_size=100, shuffle=True, worker_init_fn=np.random.seed(1))\n",
        "\n",
        "# Initialize model weights\n",
        "model.apply(weights_init)\n",
        "\n",
        "# loop over the dataset n_epoch times\n",
        "n_epoch = 100\n",
        "# store the loss and the % correct at each epoch\n",
        "losses_train = np.zeros((n_epoch))\n",
        "errors_train = np.zeros((n_epoch))\n",
        "losses_val = np.zeros((n_epoch))\n",
        "errors_val = np.zeros((n_epoch))\n",
        "\n",
        "for epoch in range(n_epoch):\n",
        "  # loop over batches\n",
        "  for i, data in enumerate(data_loader):\n",
        "    # retrieve inputs and labels for this batch\n",
        "    x_batch, y_batch = data\n",
        "    # zero the parameter gradients\n",
        "    optimizer.zero_grad()\n",
        "    # forward pass -- calculate model output\n",
        "    pred = model(x_batch[:,None,:])\n",
        "    # compute the loss\n",
        "    loss = loss_function(pred, y_batch)\n",
        "    # backward pass\n",
        "    loss.backward()\n",
        "    # SGD update\n",
        "    optimizer.step()\n",
        "\n",
        "  # Run whole dataset to get statistics -- normally wouldn't do this\n",
        "  pred_train = model(x_train[:,None,:])\n",
        "  pred_val = model(x_val[:,None,:])\n",
        "  _, predicted_train_class = torch.max(pred_train.data, 1)\n",
        "  _, predicted_val_class = torch.max(pred_val.data, 1)\n",
        "  errors_train[epoch] = 100 - 100 * (predicted_train_class == y_train).float().sum() / len(y_train)\n",
        "  errors_val[epoch]= 100 - 100 * (predicted_val_class == y_val).float().sum() / len(y_val)\n",
        "  losses_train[epoch] = loss_function(pred_train, y_train).item()\n",
        "  losses_val[epoch]= loss_function(pred_val, y_val).item()\n",
        "  print(f'Epoch {epoch:5d}, train loss {losses_train[epoch]:.6f}, train error {errors_train[epoch]:3.2f},  val loss {losses_val[epoch]:.6f}, percent error {errors_val[epoch]:3.2f}')\n",
        "\n",
        "  # tell scheduler to consider updating learning rate\n",
        "  scheduler.step()\n",
        "\n",
        "# Plot the results\n",
        "fig, ax = plt.subplots()\n",
        "ax.plot(errors_train,'r-',label='train')\n",
        "ax.plot(errors_val,'b-',label='validation')\n",
        "ax.set_ylim(0,100); ax.set_xlim(0,n_epoch)\n",
        "ax.set_xlabel('Epoch'); ax.set_ylabel('Error')\n",
        "ax.set_title('Part I: Validation Result %3.2f'%(errors_val[-1]))\n",
        "ax.legend()\n",
        "plt.show()"
      ],
      "metadata": {
        "id": "NYw8I_3mmX5c",
        "outputId": "083d5b9d-3526-4552-9e91-e04fd83663c0",
        "colab": {
          "base_uri": "https://localhost:8080/",
          "height": 1000
        }
      },
      "execution_count": 18,
      "outputs": [
        {
          "output_type": "stream",
          "name": "stdout",
          "text": [
            "Epoch     0, train loss 1.876387, train error 73.30,  val loss 1.885898, percent error 74.10\n",
            "Epoch     1, train loss 1.463700, train error 58.28,  val loss 1.499694, percent error 63.00\n",
            "Epoch     2, train loss 1.351693, train error 55.22,  val loss 1.371671, percent error 58.80\n",
            "Epoch     3, train loss 1.268695, train error 50.80,  val loss 1.302700, percent error 55.40\n",
            "Epoch     4, train loss 1.228385, train error 50.92,  val loss 1.265113, percent error 52.80\n",
            "Epoch     5, train loss 1.175138, train error 48.83,  val loss 1.214537, percent error 51.50\n",
            "Epoch     6, train loss 1.108231, train error 44.53,  val loss 1.159543, percent error 49.30\n",
            "Epoch     7, train loss 0.976902, train error 39.05,  val loss 1.011049, percent error 42.40\n",
            "Epoch     8, train loss 0.926819, train error 36.60,  val loss 0.984632, percent error 40.40\n",
            "Epoch     9, train loss 0.797339, train error 30.57,  val loss 0.841731, percent error 33.20\n",
            "Epoch    10, train loss 0.735470, train error 27.70,  val loss 0.794982, percent error 31.00\n",
            "Epoch    11, train loss 0.685456, train error 25.80,  val loss 0.727512, percent error 28.30\n",
            "Epoch    12, train loss 0.583728, train error 22.05,  val loss 0.639052, percent error 24.10\n",
            "Epoch    13, train loss 0.504686, train error 19.50,  val loss 0.577447, percent error 22.10\n",
            "Epoch    14, train loss 0.425282, train error 15.90,  val loss 0.483781, percent error 18.30\n",
            "Epoch    15, train loss 0.399153, train error 15.32,  val loss 0.502857, percent error 18.50\n",
            "Epoch    16, train loss 0.353777, train error 13.18,  val loss 0.459397, percent error 17.40\n",
            "Epoch    17, train loss 0.331496, train error 13.07,  val loss 0.441668, percent error 17.50\n",
            "Epoch    18, train loss 0.302356, train error 11.55,  val loss 0.423771, percent error 15.50\n",
            "Epoch    19, train loss 0.347393, train error 12.68,  val loss 0.457207, percent error 16.30\n",
            "Epoch    20, train loss 0.221762, train error 7.68,  val loss 0.356169, percent error 11.90\n",
            "Epoch    21, train loss 0.221794, train error 7.68,  val loss 0.376879, percent error 12.90\n",
            "Epoch    22, train loss 0.189311, train error 6.35,  val loss 0.333650, percent error 11.30\n",
            "Epoch    23, train loss 0.188409, train error 6.65,  val loss 0.356685, percent error 11.80\n",
            "Epoch    24, train loss 0.180005, train error 6.50,  val loss 0.343100, percent error 11.60\n",
            "Epoch    25, train loss 0.167588, train error 5.68,  val loss 0.346697, percent error 11.60\n",
            "Epoch    26, train loss 0.152740, train error 4.90,  val loss 0.322875, percent error 11.30\n",
            "Epoch    27, train loss 0.171447, train error 6.05,  val loss 0.364549, percent error 12.70\n",
            "Epoch    28, train loss 0.145631, train error 5.12,  val loss 0.344366, percent error 11.40\n",
            "Epoch    29, train loss 0.137491, train error 4.47,  val loss 0.328671, percent error 11.60\n",
            "Epoch    30, train loss 0.213874, train error 8.07,  val loss 0.437514, percent error 14.20\n",
            "Epoch    31, train loss 0.140698, train error 4.55,  val loss 0.339982, percent error 11.00\n",
            "Epoch    32, train loss 0.118724, train error 3.62,  val loss 0.343393, percent error 10.50\n",
            "Epoch    33, train loss 0.116287, train error 3.65,  val loss 0.341016, percent error 11.80\n",
            "Epoch    34, train loss 0.109289, train error 3.30,  val loss 0.343022, percent error 11.00\n",
            "Epoch    35, train loss 0.111805, train error 3.75,  val loss 0.345215, percent error 11.10\n",
            "Epoch    36, train loss 0.110449, train error 3.65,  val loss 0.342940, percent error 10.40\n",
            "Epoch    37, train loss 0.113975, train error 3.88,  val loss 0.335351, percent error 11.70\n",
            "Epoch    38, train loss 0.136552, train error 4.38,  val loss 0.390954, percent error 11.30\n",
            "Epoch    39, train loss 0.107512, train error 3.38,  val loss 0.365470, percent error 11.40\n",
            "Epoch    40, train loss 0.086427, train error 2.60,  val loss 0.336018, percent error 11.10\n",
            "Epoch    41, train loss 0.078416, train error 2.03,  val loss 0.341201, percent error 9.50\n",
            "Epoch    42, train loss 0.075169, train error 2.28,  val loss 0.331049, percent error 10.30\n",
            "Epoch    43, train loss 0.081500, train error 2.57,  val loss 0.341903, percent error 10.40\n",
            "Epoch    44, train loss 0.072613, train error 2.05,  val loss 0.337264, percent error 10.50\n",
            "Epoch    45, train loss 0.069098, train error 1.65,  val loss 0.345327, percent error 10.10\n",
            "Epoch    46, train loss 0.086366, train error 2.65,  val loss 0.385802, percent error 11.60\n",
            "Epoch    47, train loss 0.067839, train error 1.93,  val loss 0.344685, percent error 10.80\n",
            "Epoch    48, train loss 0.064132, train error 1.80,  val loss 0.343401, percent error 10.10\n",
            "Epoch    49, train loss 0.063078, train error 1.72,  val loss 0.352505, percent error 10.10\n",
            "Epoch    50, train loss 0.063175, train error 1.53,  val loss 0.358597, percent error 10.30\n",
            "Epoch    51, train loss 0.062357, train error 1.55,  val loss 0.348895, percent error 10.70\n",
            "Epoch    52, train loss 0.063458, train error 1.80,  val loss 0.353869, percent error 10.50\n",
            "Epoch    53, train loss 0.062627, train error 1.55,  val loss 0.363298, percent error 9.90\n",
            "Epoch    54, train loss 0.057331, train error 1.47,  val loss 0.349405, percent error 10.00\n",
            "Epoch    55, train loss 0.059880, train error 1.75,  val loss 0.352479, percent error 10.00\n",
            "Epoch    56, train loss 0.054862, train error 1.47,  val loss 0.351135, percent error 10.10\n",
            "Epoch    57, train loss 0.052014, train error 1.38,  val loss 0.358195, percent error 10.30\n",
            "Epoch    58, train loss 0.055128, train error 1.43,  val loss 0.351759, percent error 10.90\n",
            "Epoch    59, train loss 0.053460, train error 1.28,  val loss 0.365060, percent error 10.40\n",
            "Epoch    60, train loss 0.047587, train error 1.00,  val loss 0.360265, percent error 9.90\n",
            "Epoch    61, train loss 0.047259, train error 0.90,  val loss 0.364675, percent error 10.00\n",
            "Epoch    62, train loss 0.046491, train error 0.97,  val loss 0.362555, percent error 9.40\n",
            "Epoch    63, train loss 0.046200, train error 0.97,  val loss 0.361486, percent error 9.70\n",
            "Epoch    64, train loss 0.045511, train error 0.97,  val loss 0.366113, percent error 9.70\n",
            "Epoch    65, train loss 0.046673, train error 1.03,  val loss 0.360703, percent error 10.10\n",
            "Epoch    66, train loss 0.044037, train error 0.88,  val loss 0.366527, percent error 9.60\n",
            "Epoch    67, train loss 0.044077, train error 0.90,  val loss 0.370789, percent error 9.90\n",
            "Epoch    68, train loss 0.042766, train error 0.85,  val loss 0.372146, percent error 9.70\n",
            "Epoch    69, train loss 0.043093, train error 0.93,  val loss 0.373648, percent error 10.20\n",
            "Epoch    70, train loss 0.041792, train error 0.82,  val loss 0.374375, percent error 9.90\n",
            "Epoch    71, train loss 0.045609, train error 1.07,  val loss 0.386730, percent error 9.70\n",
            "Epoch    72, train loss 0.041484, train error 0.88,  val loss 0.372433, percent error 9.80\n",
            "Epoch    73, train loss 0.041293, train error 0.80,  val loss 0.379446, percent error 10.50\n",
            "Epoch    74, train loss 0.042146, train error 0.95,  val loss 0.377523, percent error 10.20\n",
            "Epoch    75, train loss 0.039600, train error 0.75,  val loss 0.378025, percent error 10.30\n",
            "Epoch    76, train loss 0.039790, train error 0.80,  val loss 0.376955, percent error 9.80\n",
            "Epoch    77, train loss 0.038781, train error 0.70,  val loss 0.383574, percent error 10.30\n",
            "Epoch    78, train loss 0.039281, train error 0.80,  val loss 0.381651, percent error 10.30\n",
            "Epoch    79, train loss 0.040313, train error 0.90,  val loss 0.390761, percent error 9.90\n",
            "Epoch    80, train loss 0.037077, train error 0.68,  val loss 0.382954, percent error 9.80\n",
            "Epoch    81, train loss 0.036804, train error 0.55,  val loss 0.383682, percent error 9.70\n",
            "Epoch    82, train loss 0.037332, train error 0.70,  val loss 0.381807, percent error 10.10\n",
            "Epoch    83, train loss 0.036308, train error 0.57,  val loss 0.387213, percent error 9.60\n",
            "Epoch    84, train loss 0.036016, train error 0.60,  val loss 0.387767, percent error 10.00\n",
            "Epoch    85, train loss 0.036262, train error 0.72,  val loss 0.385071, percent error 9.90\n",
            "Epoch    86, train loss 0.035576, train error 0.60,  val loss 0.388171, percent error 9.80\n",
            "Epoch    87, train loss 0.035432, train error 0.60,  val loss 0.392186, percent error 9.60\n",
            "Epoch    88, train loss 0.035861, train error 0.55,  val loss 0.393859, percent error 9.80\n",
            "Epoch    89, train loss 0.035268, train error 0.68,  val loss 0.389282, percent error 9.80\n",
            "Epoch    90, train loss 0.035438, train error 0.62,  val loss 0.393278, percent error 9.70\n",
            "Epoch    91, train loss 0.034577, train error 0.57,  val loss 0.394274, percent error 10.00\n",
            "Epoch    92, train loss 0.035161, train error 0.55,  val loss 0.397816, percent error 10.00\n",
            "Epoch    93, train loss 0.034065, train error 0.65,  val loss 0.392211, percent error 10.00\n",
            "Epoch    94, train loss 0.034014, train error 0.50,  val loss 0.396621, percent error 9.60\n",
            "Epoch    95, train loss 0.034253, train error 0.57,  val loss 0.395602, percent error 10.10\n",
            "Epoch    96, train loss 0.033933, train error 0.60,  val loss 0.398067, percent error 10.20\n",
            "Epoch    97, train loss 0.033527, train error 0.50,  val loss 0.397799, percent error 10.00\n",
            "Epoch    98, train loss 0.033201, train error 0.55,  val loss 0.396127, percent error 10.10\n",
            "Epoch    99, train loss 0.032962, train error 0.55,  val loss 0.401170, percent error 10.00\n"
          ]
        },
        {
          "output_type": "display_data",
          "data": {
            "text/plain": [
              "<Figure size 640x480 with 1 Axes>"
            ],
            "image/png": "[encoded data removed]"
          },
          "metadata": {}
        }
      ]
    },
    {
      "cell_type": "code",
      "source": [],
      "metadata": {
        "id": "L585DguQlnUd"
      },
      "execution_count": null,
      "outputs": []
    }
  ]
}